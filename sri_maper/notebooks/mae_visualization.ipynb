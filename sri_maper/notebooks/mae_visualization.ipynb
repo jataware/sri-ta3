{
 "cells": [
  {
   "cell_type": "code",
   "execution_count": 2,
   "metadata": {},
   "outputs": [],
   "source": [
    "import matplotlib.pyplot as plt\n",
    "import numpy as np\n",
    "import random\n",
    "\n",
    "import torch\n",
    "import timm\n",
    "\n",
    "from typing import Any, Dict, List, Tuple, Optional\n",
    "\n",
    "from einops import repeat, rearrange\n",
    "from einops.layers.torch import Rearrange\n",
    "\n",
    "from timm.models.layers import trunc_normal_\n",
    "from timm.models.vision_transformer import Block\n",
    "import torch.nn.functional as F\n"
   ]
  },
  {
   "cell_type": "code",
   "execution_count": 4,
   "metadata": {},
   "outputs": [],
   "source": [
    "root_path = \"../../logs/\"\n",
    "img = np.load(f\"{root_path}img.npy\")\n",
    "mask = np.load(f\"{root_path}mask.npy\")\n",
    "pred_img = np.load(f\"{root_path}preds.npy\")\n"
   ]
  },
  {
   "cell_type": "code",
   "execution_count": 114,
   "metadata": {},
   "outputs": [
    {
     "data": {
      "image/png": "[encoded data removed]",
      "text/plain": [
       "<Figure size 640x480 with 4 Axes>"
      ]
     },
     "metadata": {},
     "output_type": "display_data"
    }
   ],
   "source": [
    "batch_index = random.randint(0, 1023) #1, 96, 62*\n",
    "# channel_index = random.randint(0, 40) #3, 7, 1*\n",
    "channel_index = 28\n",
    "fig, axes = plt.subplots(1, 4)\n",
    "\n",
    "_min, _max = np.amin(img[batch_index, channel_index, :, :]), np.amax(img[batch_index, channel_index, :, :])\n",
    "\n",
    "img_plot = axes[0].imshow(img[batch_index, channel_index, :, :], vmin = _min, vmax = _max)\n",
    "axes[1].imshow(1-mask[batch_index, channel_index, :, :], cmap='gray')\n",
    "# axes[2].imshow((1-mask[batch_index, channel_index, :, :])*img[batch_index, channel_index, :, :], vmin=img_plot.get_clim()[0], vmax=img_plot.get_clim()[1])\n",
    "nan_img = np.copy(img)\n",
    "for row in range(img.shape[2]):\n",
    "    for col in range(img.shape[3]):\n",
    "        if mask[batch_index, channel_index, row, col] == 1:\n",
    "            nan_img[batch_index, channel_index, row, col] = np.nan\n",
    "axes[2].imshow(nan_img[batch_index, channel_index, :, :], vmin = _min, vmax = _max)\n",
    "axes[3].imshow(pred_img[batch_index, channel_index, :, :], vmin = _min, vmax = _max)#, cmap='plasma')\n",
    "\n",
    "axes[0].axis('off')\n",
    "axes[1].axis('off')\n",
    "axes[2].axis('off')\n",
    "axes[3].axis('off')\n",
    "\n",
    "axes[0].set_title(f\"Orig.Img.(ch. {channel_index})\")\n",
    "axes[1].set_title(f\"Mask\")\n",
    "axes[2].set_title(f\"Orig.Img.+Mask\")\n",
    "axes[3].set_title(f\"Predicted Img\")\n",
    "\n",
    "plt.tight_layout()\n",
    "plt.show()"
   ]
  },
  {
   "cell_type": "code",
   "execution_count": null,
   "metadata": {},
   "outputs": [],
   "source": []
  }
 ],
 "metadata": {
  "kernelspec": {
   "display_name": "Python 3 (ipykernel)",
   "language": "python",
   "name": "python3"
  },
  "language_info": {
   "codemirror_mode": {
    "name": "ipython",
    "version": 3
   },
   "file_extension": ".py",
   "mimetype": "text/x-python",
   "name": "python",
   "nbconvert_exporter": "python",
   "pygments_lexer": "ipython3",
   "version": "3.10.8"
  }
 },
 "nbformat": 4,
 "nbformat_minor": 4
}
